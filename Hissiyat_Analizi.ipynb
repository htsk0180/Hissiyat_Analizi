{
  "nbformat": 4,
  "nbformat_minor": 0,
  "metadata": {
    "colab": {
      "name": "Hissiyat_Analizi.ipynb",
      "provenance": [],
      "collapsed_sections": []
    },
    "kernelspec": {
      "name": "python3",
      "display_name": "Python 3"
    },
    "language_info": {
      "name": "python"
    },
    "accelerator": "GPU"
  },
  "cells": [
    {
      "cell_type": "code",
      "execution_count": null,
      "metadata": {
        "colab": {
          "base_uri": "https://localhost:8080/"
        },
        "id": "pcWYpVHyPGPK",
        "outputId": "60df027b-e0de-401a-f3c6-80e71aed06a1"
      },
      "outputs": [
        {
          "output_type": "stream",
          "name": "stdout",
          "text": [
            "Drive already mounted at /gdrive; to attempt to forcibly remount, call drive.mount(\"/gdrive\", force_remount=True).\n",
            "/gdrive\n"
          ]
        }
      ],
      "source": [
        "# Kimlik Doğrulama.\n",
        "from google.colab import drive\n",
        "drive.mount('/gdrive')\n",
        "%cd /gdrive"
      ]
    },
    {
      "cell_type": "markdown",
      "source": [
        "`Hissiyat analizi` metinlerdeki öznel bilgiyi bulmak için bağlamsal bir data mining yöntemidir. Hissiyat analizi üretilen ürünlerin ya da sunulan hizmetin kişiler tarafından beğenilip beğenilmediği ya da bir görüş belirtmek istemediği durumları anlamamıza yardımcı olur."
      ],
      "metadata": {
        "id": "NLYwwTjvPiY1"
      }
    },
    {
      "cell_type": "code",
      "source": [
        "# ilgili kütüphane ve veri setinin yüklenmesi.\n",
        "import pandas as pd\n",
        "data = pd.read_excel(\"/gdrive/My Drive/Calisma_ortami/Uygulamalar/reviews.xlsx\")\n",
        "data = data.sample(frac=1).reset_index(drop=True)"
      ],
      "metadata": {
        "id": "vsHndjR5QMJ_"
      },
      "execution_count": null,
      "outputs": []
    },
    {
      "cell_type": "code",
      "source": [
        "data.head()"
      ],
      "metadata": {
        "id": "UUK2p-1jS-oi"
      },
      "execution_count": null,
      "outputs": []
    },
    {
      "cell_type": "code",
      "source": [
        "data['label'].value_counts()"
      ],
      "metadata": {
        "id": "v-MmBoY5TYJh"
      },
      "execution_count": null,
      "outputs": []
    },
    {
      "cell_type": "code",
      "source": [
        "# veri ön işleme\n",
        "import string\n",
        "import re\n",
        "import nltk\n",
        "nltk.download(\"stopwords\")\n",
        "from nltk.corpus import stopwords"
      ],
      "metadata": {
        "id": "IEAvXp_kcU0L"
      },
      "execution_count": null,
      "outputs": []
    },
    {
      "cell_type": "code",
      "source": [
        "noktalama = string.punctuation\n",
        "etkisiz = stopwords.words('turkish')\n",
        "print(noktalama)\n",
        "print(etkisiz)"
      ],
      "metadata": {
        "id": "uIcSiQ_KdEYX"
      },
      "execution_count": null,
      "outputs": []
    },
    {
      "cell_type": "code",
      "source": [
        "for d in data['review'].head():\n",
        "  print(d+ '\\n----------------------')\n",
        "  # etkisiz kelimelerin atılması\n",
        "  temp = ''\n",
        "  for word in d.split():\n",
        "    if word not in etkisiz and not word.isnumeric():\n",
        "      temp += word + ' '\n",
        "  print(temp + '\\n********************')"
      ],
      "metadata": {
        "id": "i3dlRISVdXsY"
      },
      "execution_count": null,
      "outputs": []
    },
    {
      "cell_type": "code",
      "source": [
        "for d in data['review'].head():\n",
        "  print(d+ '\\n------------------')\n",
        "  temp = ''\n",
        "  for word in d:\n",
        "    if word not in noktalama:\n",
        "      temp += word\n",
        "  print(temp + '\\n*********************')\n",
        "  d = temp"
      ],
      "metadata": {
        "id": "aAtqPayeedha"
      },
      "execution_count": null,
      "outputs": []
    },
    {
      "cell_type": "code",
      "source": [
        "data.to_csv(r'/gdrive/My Drive/Calisma_ortami/Uygulamalar/cleaned.csv', index = False)"
      ],
      "metadata": {
        "id": "zLgavHWQfzVL"
      },
      "execution_count": null,
      "outputs": []
    },
    {
      "cell_type": "code",
      "source": [
        "# temizlenmiş veriyi yüklüyoruz.\n",
        "import pandas as pd\n",
        "data = pd.read_csv('/gdrive/My Drive/Calisma_ortami/Uygulamalar/cleaned.csv', sep=\",\")\n",
        "print(data.head())"
      ],
      "metadata": {
        "colab": {
          "base_uri": "https://localhost:8080/"
        },
        "id": "D3u82QDyhCUU",
        "outputId": "54ce715e-aafe-4042-882b-668e5337bbfd"
      },
      "execution_count": null,
      "outputs": [
        {
          "output_type": "stream",
          "name": "stdout",
          "text": [
            "                                              review label\n",
            "0  çok şık ve kaliteli görünümlü bir ürün. banyo ...   pos\n",
            "1  ürün istanbul içi geç teslimatla 4 günde elime...   neg\n",
            "2  schneider ürünlerinde problem yaşamadım hiçbir...   pos\n",
            "3  ürünü saat 11:00 de si̇pari̇ş etti̇m ertesi̇ g...   pos\n",
            "4  sırt kısmına önem veririm ve büyük olması beni...   pos\n"
          ]
        }
      ]
    },
    {
      "cell_type": "code",
      "source": [
        "# temizlenmiş veri setini train ve test olarak ayırıyoruz.\n",
        "from sklearn.model_selection import train_test_split\n",
        "X_train,X_test,y_train,y_test = train_test_split(data['review'].head(30000).values.astype('U'),\n",
        "                                                 data['label'].head(30000).values.astype('U'), test_size=0.33,random_state=42)\n",
        "print(X_train.shape)\n",
        "print(X_test.shape)"
      ],
      "metadata": {
        "id": "Pv-nKyWlhzUb",
        "colab": {
          "base_uri": "https://localhost:8080/"
        },
        "outputId": "7bc439ab-fd5b-4294-a78a-93093819f84c"
      },
      "execution_count": null,
      "outputs": [
        {
          "output_type": "stream",
          "name": "stdout",
          "text": [
            "(20100,)\n",
            "(9900,)\n"
          ]
        }
      ]
    },
    {
      "cell_type": "code",
      "source": [
        "# train kümesindeki cümlelerin sayma vektörlerini çıkarıyoruz.\n",
        "from sklearn.feature_extraction.text import CountVectorizer\n",
        "count_vect = CountVectorizer()\n",
        "X_train_counts = count_vect.fit_transform(X_train)\n",
        "print(X_train_counts.shape)"
      ],
      "metadata": {
        "id": "bj2A6LwGi8cB",
        "colab": {
          "base_uri": "https://localhost:8080/"
        },
        "outputId": "514cc7ca-1bbf-4f69-d8fe-439f691a66ba"
      },
      "execution_count": null,
      "outputs": [
        {
          "output_type": "stream",
          "name": "stdout",
          "text": [
            "(20100, 50425)\n"
          ]
        }
      ]
    },
    {
      "cell_type": "code",
      "source": [
        "# train kümesindeki cümlelerin TF*IDF vektörlerini sayma vektörlerinden oluşturuyoruz.\n",
        "from sklearn.feature_extraction.text import TfidfTransformer\n",
        "tfidf_transformer = TfidfTransformer()\n",
        "X_train_tdidf = tfidf_transformer.fit_transform(X_train_counts)\n",
        "print(X_train_tdidf.shape)"
      ],
      "metadata": {
        "colab": {
          "base_uri": "https://localhost:8080/"
        },
        "id": "dRb9PJYK9UF7",
        "outputId": "2028afc8-feeb-47e3-e218-568915651c69"
      },
      "execution_count": null,
      "outputs": [
        {
          "output_type": "stream",
          "name": "stdout",
          "text": [
            "(20100, 50425)\n"
          ]
        }
      ]
    },
    {
      "cell_type": "code",
      "source": [
        "# çok modlu naive bayes sınıflandırıcı eğitiyoruz.\n",
        "from sklearn.naive_bayes import MultinomialNB\n",
        "clf = MultinomialNB().fit(X_train_tdidf,y_train)\n",
        "X_test_counts = count_vect.transform(X_test)\n",
        "X_test_tfidf = tfidf_transformer.transform(X_test_counts)"
      ],
      "metadata": {
        "id": "cMVWG9l8NsCa"
      },
      "execution_count": null,
      "outputs": []
    },
    {
      "cell_type": "code",
      "source": [
        "# sınıflandırıcı ile test seti üzerinden tahminleme yapıyoruz.\n",
        "y_pred = clf.predict(X_test_tfidf)\n",
        "for review, sentiment in zip(X_test[:-5],y_pred[:]):\n",
        "  print('%r => %s' % (review,sentiment))"
      ],
      "metadata": {
        "id": "kiKTST3tOUnw"
      },
      "execution_count": null,
      "outputs": []
    },
    {
      "cell_type": "code",
      "source": [
        "# performans sonuçları\n",
        "from sklearn.metrics import accuracy_score\n",
        "print(accuracy_score(y_test,y_pred))"
      ],
      "metadata": {
        "colab": {
          "base_uri": "https://localhost:8080/"
        },
        "id": "fWWkuGddO6sC",
        "outputId": "81911549-ee34-47a7-b957-b9e83c183067"
      },
      "execution_count": null,
      "outputs": [
        {
          "output_type": "stream",
          "name": "stdout",
          "text": [
            "0.9393939393939394\n"
          ]
        }
      ]
    },
    {
      "cell_type": "code",
      "source": [
        ""
      ],
      "metadata": {
        "id": "p_1PCE37PyIE"
      },
      "execution_count": null,
      "outputs": []
    }
  ]
}